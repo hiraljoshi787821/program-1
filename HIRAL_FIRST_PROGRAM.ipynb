{
 "cells": [
  {
   "cell_type": "markdown",
   "id": "9b82b3bf",
   "metadata": {},
   "source": [
    "### printing hello world "
   ]
  },
  {
   "cell_type": "code",
   "execution_count": 1,
   "id": "11fda862",
   "metadata": {},
   "outputs": [
    {
     "name": "stdout",
     "output_type": "stream",
     "text": [
      "Hello world\n"
     ]
    }
   ],
   "source": [
    "print(\"Hello world\")"
   ]
  },
  {
   "cell_type": "code",
   "execution_count": 2,
   "id": "a778852d",
   "metadata": {},
   "outputs": [],
   "source": [
    "### printing Hello World "
   ]
  },
  {
   "cell_type": "code",
   "execution_count": 3,
   "id": "de2e8e77",
   "metadata": {},
   "outputs": [
    {
     "ename": "NameError",
     "evalue": "name 'PRINT' is not defined",
     "output_type": "error",
     "traceback": [
      "\u001b[1;31m---------------------------------------------------------------------------\u001b[0m",
      "\u001b[1;31mNameError\u001b[0m                                 Traceback (most recent call last)",
      "\u001b[1;32m~\\AppData\\Local\\Temp\\ipykernel_14388\\610185365.py\u001b[0m in \u001b[0;36m<module>\u001b[1;34m\u001b[0m\n\u001b[1;32m----> 1\u001b[1;33m \u001b[0mPRINT\u001b[0m \u001b[1;33m(\u001b[0m\u001b[1;34m\"HELLO WORLD\"\u001b[0m\u001b[1;33m)\u001b[0m\u001b[1;33m\u001b[0m\u001b[1;33m\u001b[0m\u001b[0m\n\u001b[0m",
      "\u001b[1;31mNameError\u001b[0m: name 'PRINT' is not defined"
     ]
    }
   ],
   "source": [
    "PRINT (\"HELLO WORLD\")"
   ]
  },
  {
   "cell_type": "code",
   "execution_count": 5,
   "id": "64743b8c",
   "metadata": {},
   "outputs": [
    {
     "name": "stdout",
     "output_type": "stream",
     "text": [
      "Hiral Joshi\n"
     ]
    }
   ],
   "source": [
    "print (\"Hiral Joshi\")"
   ]
  },
  {
   "cell_type": "code",
   "execution_count": null,
   "id": "8b2cd701",
   "metadata": {},
   "outputs": [],
   "source": []
  }
 ],
 "metadata": {
  "kernelspec": {
   "display_name": "Python 3 (ipykernel)",
   "language": "python",
   "name": "python3"
  },
  "language_info": {
   "codemirror_mode": {
    "name": "ipython",
    "version": 3
   },
   "file_extension": ".py",
   "mimetype": "text/x-python",
   "name": "python",
   "nbconvert_exporter": "python",
   "pygments_lexer": "ipython3",
   "version": "3.9.13"
  }
 },
 "nbformat": 4,
 "nbformat_minor": 5
}
